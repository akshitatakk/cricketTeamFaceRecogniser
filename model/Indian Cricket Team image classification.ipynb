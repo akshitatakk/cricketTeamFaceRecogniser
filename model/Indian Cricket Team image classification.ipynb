{
 "cells": [
  {
   "cell_type": "code",
   "execution_count": 1,
   "metadata": {},
   "outputs": [],
   "source": [
    "import numpy as np\n",
    "import cv2\n",
    "import matplotlib\n",
    "from matplotlib import pyplot as plt\n",
    "%matplotlib inline"
   ]
  },
  {
   "cell_type": "code",
   "execution_count": 2,
   "metadata": {},
   "outputs": [],
   "source": [
    "face_cascade = cv2.CascadeClassifier('C:/Users/Akshay/Desktop/faceRecognition/model/open_cv/haarcascade_frontalface_default.xml')\n",
    "eye_cascade  = cv2.CascadeClassifier('C:/Users/Akshay/Desktop/faceRecognition/model/open_cv/haarcascade_eye.xml')"
   ]
  },
  {
   "cell_type": "code",
   "execution_count": 3,
   "metadata": {},
   "outputs": [],
   "source": [
    "def get_cropped_image(image_path):\n",
    "    img = cv2.imread(image_path)\n",
    "    gray = cv2.cvtColor(img, cv2.COLOR_BGR2GRAY)\n",
    "    faces = face_cascade.detectMultiScale(gray, 1.3, 5)\n",
    "    for (x,y,w,h) in faces:\n",
    "        roi_gray = gray[y:y+h, x:x+w]\n",
    "        roi_color = img[y:y+h, x:x+w]\n",
    "        eyes = eye_cascade.detectMultiScale(roi_gray)\n",
    "        if len(eyes) >= 2:\n",
    "            return roi_color"
   ]
  },
  {
   "cell_type": "code",
   "execution_count": 4,
   "metadata": {},
   "outputs": [],
   "source": [
    "path_to_data = \"C:/Users/Akshay/Desktop/faceRecognition/model/dataset/\"\n",
    "path_to_cr_data = \"C:/Users/Akshay/Desktop/faceRecognition/model/dataset/cropped/\""
   ]
  },
  {
   "cell_type": "code",
   "execution_count": 5,
   "metadata": {},
   "outputs": [],
   "source": [
    "import os\n",
    "img_dirs = []\n",
    "for entry in os.scandir(path_to_data):\n",
    "    if entry.is_dir():\n",
    "        img_dirs.append(entry.path)"
   ]
  },
  {
   "cell_type": "code",
   "execution_count": 6,
   "metadata": {},
   "outputs": [
    {
     "data": {
      "text/plain": [
       "['C:/Users/Akshay/Desktop/faceRecognition/model/dataset/Hardik_Pandya',\n",
       " 'C:/Users/Akshay/Desktop/faceRecognition/model/dataset/KL_Rahul',\n",
       " 'C:/Users/Akshay/Desktop/faceRecognition/model/dataset/MS_Dhoni',\n",
       " 'C:/Users/Akshay/Desktop/faceRecognition/model/dataset/Rohit_Sharma',\n",
       " 'C:/Users/Akshay/Desktop/faceRecognition/model/dataset/Virat_Kohli']"
      ]
     },
     "execution_count": 6,
     "metadata": {},
     "output_type": "execute_result"
    }
   ],
   "source": [
    "img_dirs"
   ]
  },
  {
   "cell_type": "code",
   "execution_count": 7,
   "metadata": {},
   "outputs": [],
   "source": [
    "import shutil\n",
    "if os.path.exists(path_to_cr_data):\n",
    "     shutil.rmtree(path_to_cr_data)\n",
    "os.mkdir(path_to_cr_data)"
   ]
  },
  {
   "cell_type": "code",
   "execution_count": 8,
   "metadata": {},
   "outputs": [
    {
     "name": "stdout",
     "output_type": "stream",
     "text": [
      "Hardik_Pandya\n",
      "Generating cropped images in folder:  C:/Users/Akshay/Desktop/faceRecognition/model/dataset/cropped/Hardik_Pandya\n",
      "KL_Rahul\n",
      "Generating cropped images in folder:  C:/Users/Akshay/Desktop/faceRecognition/model/dataset/cropped/KL_Rahul\n",
      "MS_Dhoni\n",
      "Generating cropped images in folder:  C:/Users/Akshay/Desktop/faceRecognition/model/dataset/cropped/MS_Dhoni\n",
      "Rohit_Sharma\n",
      "Generating cropped images in folder:  C:/Users/Akshay/Desktop/faceRecognition/model/dataset/cropped/Rohit_Sharma\n",
      "Virat_Kohli\n",
      "Generating cropped images in folder:  C:/Users/Akshay/Desktop/faceRecognition/model/dataset/cropped/Virat_Kohli\n"
     ]
    }
   ],
   "source": [
    "cropped_image_dirs = []\n",
    "celebrity_file_names_dict = {}\n",
    "\n",
    "for img_dir in img_dirs:\n",
    "    count = 1\n",
    "    celebrity_name = img_dir.split('/')[-1]\n",
    "    print(celebrity_name)\n",
    "    \n",
    "    celebrity_file_names_dict[celebrity_name] = []\n",
    "    \n",
    "    for entry in os.scandir(img_dir):\n",
    "        roi_color = get_cropped_image(entry.path)\n",
    "        if roi_color is not None:\n",
    "            cropped_folder = path_to_cr_data + celebrity_name\n",
    "            if not os.path.exists(cropped_folder):\n",
    "                os.makedirs(cropped_folder)\n",
    "                cropped_image_dirs.append(cropped_folder)\n",
    "                print(\"Generating cropped images in folder: \",cropped_folder)\n",
    "                \n",
    "            cropped_file_name = celebrity_name + str(count) + \".png\"\n",
    "            cropped_file_path = cropped_folder + \"/\" + cropped_file_name \n",
    "            \n",
    "            cv2.imwrite(cropped_file_path, roi_color)\n",
    "            celebrity_file_names_dict[celebrity_name].append(cropped_file_path)\n",
    "            count += 1    \n",
    "            "
   ]
  },
  {
   "cell_type": "code",
   "execution_count": 9,
   "metadata": {},
   "outputs": [],
   "source": [
    "import numpy as np\n",
    "import pywt\n",
    "import cv2\n",
    "\n",
    "def w2d(img, mode='haar', level=1):\n",
    "    imArray = img\n",
    "    #converting to grayscale\n",
    "    imArray = cv2.cvtColor(imArray, cv2.COLOR_RGB2GRAY)\n",
    "    #converting to float\n",
    "    imArray = np.float32(imArray)\n",
    "    imArray/= 255;\n",
    "    #compute coefficients\n",
    "    coeffs = pywt.wavedec2(imArray, mode, level=level)\n",
    "    \n",
    "    #processing coefficients\n",
    "    coeffs_H = list(coeffs)\n",
    "    coeffs_H[0] *= 255;\n",
    "    \n",
    "    #reconstruction\n",
    "    imArray_H = pywt.waverec2(coeffs_H, mode);\n",
    "    imArray_H *= 255;\n",
    "    imArray_H = np.uint8(imArray_H)\n",
    "    \n",
    "    return imArray_H"
   ]
  },
  {
   "cell_type": "code",
   "execution_count": 10,
   "metadata": {},
   "outputs": [
    {
     "data": {
      "text/plain": [
       "{'Hardik_Pandya': ['C:/Users/Akshay/Desktop/faceRecognition/model/dataset/cropped/Hardik_Pandya/Hardik_Pandya1.png',\n",
       "  'C:/Users/Akshay/Desktop/faceRecognition/model/dataset/cropped/Hardik_Pandya/Hardik_Pandya2.png',\n",
       "  'C:/Users/Akshay/Desktop/faceRecognition/model/dataset/cropped/Hardik_Pandya/Hardik_Pandya3.png',\n",
       "  'C:/Users/Akshay/Desktop/faceRecognition/model/dataset/cropped/Hardik_Pandya/Hardik_Pandya4.png',\n",
       "  'C:/Users/Akshay/Desktop/faceRecognition/model/dataset/cropped/Hardik_Pandya/Hardik_Pandya5.png',\n",
       "  'C:/Users/Akshay/Desktop/faceRecognition/model/dataset/cropped/Hardik_Pandya/Hardik_Pandya6.png',\n",
       "  'C:/Users/Akshay/Desktop/faceRecognition/model/dataset/cropped/Hardik_Pandya/Hardik_Pandya7.png',\n",
       "  'C:/Users/Akshay/Desktop/faceRecognition/model/dataset/cropped/Hardik_Pandya/Hardik_Pandya8.png',\n",
       "  'C:/Users/Akshay/Desktop/faceRecognition/model/dataset/cropped/Hardik_Pandya/Hardik_Pandya9.png',\n",
       "  'C:/Users/Akshay/Desktop/faceRecognition/model/dataset/cropped/Hardik_Pandya/Hardik_Pandya10.png',\n",
       "  'C:/Users/Akshay/Desktop/faceRecognition/model/dataset/cropped/Hardik_Pandya/Hardik_Pandya11.png',\n",
       "  'C:/Users/Akshay/Desktop/faceRecognition/model/dataset/cropped/Hardik_Pandya/Hardik_Pandya12.png',\n",
       "  'C:/Users/Akshay/Desktop/faceRecognition/model/dataset/cropped/Hardik_Pandya/Hardik_Pandya13.png',\n",
       "  'C:/Users/Akshay/Desktop/faceRecognition/model/dataset/cropped/Hardik_Pandya/Hardik_Pandya14.png',\n",
       "  'C:/Users/Akshay/Desktop/faceRecognition/model/dataset/cropped/Hardik_Pandya/Hardik_Pandya15.png',\n",
       "  'C:/Users/Akshay/Desktop/faceRecognition/model/dataset/cropped/Hardik_Pandya/Hardik_Pandya16.png',\n",
       "  'C:/Users/Akshay/Desktop/faceRecognition/model/dataset/cropped/Hardik_Pandya/Hardik_Pandya17.png',\n",
       "  'C:/Users/Akshay/Desktop/faceRecognition/model/dataset/cropped/Hardik_Pandya/Hardik_Pandya18.png',\n",
       "  'C:/Users/Akshay/Desktop/faceRecognition/model/dataset/cropped/Hardik_Pandya/Hardik_Pandya19.png',\n",
       "  'C:/Users/Akshay/Desktop/faceRecognition/model/dataset/cropped/Hardik_Pandya/Hardik_Pandya20.png',\n",
       "  'C:/Users/Akshay/Desktop/faceRecognition/model/dataset/cropped/Hardik_Pandya/Hardik_Pandya21.png',\n",
       "  'C:/Users/Akshay/Desktop/faceRecognition/model/dataset/cropped/Hardik_Pandya/Hardik_Pandya22.png',\n",
       "  'C:/Users/Akshay/Desktop/faceRecognition/model/dataset/cropped/Hardik_Pandya/Hardik_Pandya23.png',\n",
       "  'C:/Users/Akshay/Desktop/faceRecognition/model/dataset/cropped/Hardik_Pandya/Hardik_Pandya24.png',\n",
       "  'C:/Users/Akshay/Desktop/faceRecognition/model/dataset/cropped/Hardik_Pandya/Hardik_Pandya25.png',\n",
       "  'C:/Users/Akshay/Desktop/faceRecognition/model/dataset/cropped/Hardik_Pandya/Hardik_Pandya26.png',\n",
       "  'C:/Users/Akshay/Desktop/faceRecognition/model/dataset/cropped/Hardik_Pandya/Hardik_Pandya27.png',\n",
       "  'C:/Users/Akshay/Desktop/faceRecognition/model/dataset/cropped/Hardik_Pandya/Hardik_Pandya28.png',\n",
       "  'C:/Users/Akshay/Desktop/faceRecognition/model/dataset/cropped/Hardik_Pandya/Hardik_Pandya29.png',\n",
       "  'C:/Users/Akshay/Desktop/faceRecognition/model/dataset/cropped/Hardik_Pandya/Hardik_Pandya30.png',\n",
       "  'C:/Users/Akshay/Desktop/faceRecognition/model/dataset/cropped/Hardik_Pandya/Hardik_Pandya31.png',\n",
       "  'C:/Users/Akshay/Desktop/faceRecognition/model/dataset/cropped/Hardik_Pandya/Hardik_Pandya32.png',\n",
       "  'C:/Users/Akshay/Desktop/faceRecognition/model/dataset/cropped/Hardik_Pandya/Hardik_Pandya33.png',\n",
       "  'C:/Users/Akshay/Desktop/faceRecognition/model/dataset/cropped/Hardik_Pandya/Hardik_Pandya34.png',\n",
       "  'C:/Users/Akshay/Desktop/faceRecognition/model/dataset/cropped/Hardik_Pandya/Hardik_Pandya35.png',\n",
       "  'C:/Users/Akshay/Desktop/faceRecognition/model/dataset/cropped/Hardik_Pandya/Hardik_Pandya36.png',\n",
       "  'C:/Users/Akshay/Desktop/faceRecognition/model/dataset/cropped/Hardik_Pandya/Hardik_Pandya37.png',\n",
       "  'C:/Users/Akshay/Desktop/faceRecognition/model/dataset/cropped/Hardik_Pandya/Hardik_Pandya38.png',\n",
       "  'C:/Users/Akshay/Desktop/faceRecognition/model/dataset/cropped/Hardik_Pandya/Hardik_Pandya39.png',\n",
       "  'C:/Users/Akshay/Desktop/faceRecognition/model/dataset/cropped/Hardik_Pandya/Hardik_Pandya40.png',\n",
       "  'C:/Users/Akshay/Desktop/faceRecognition/model/dataset/cropped/Hardik_Pandya/Hardik_Pandya41.png',\n",
       "  'C:/Users/Akshay/Desktop/faceRecognition/model/dataset/cropped/Hardik_Pandya/Hardik_Pandya42.png',\n",
       "  'C:/Users/Akshay/Desktop/faceRecognition/model/dataset/cropped/Hardik_Pandya/Hardik_Pandya43.png',\n",
       "  'C:/Users/Akshay/Desktop/faceRecognition/model/dataset/cropped/Hardik_Pandya/Hardik_Pandya44.png',\n",
       "  'C:/Users/Akshay/Desktop/faceRecognition/model/dataset/cropped/Hardik_Pandya/Hardik_Pandya45.png',\n",
       "  'C:/Users/Akshay/Desktop/faceRecognition/model/dataset/cropped/Hardik_Pandya/Hardik_Pandya46.png',\n",
       "  'C:/Users/Akshay/Desktop/faceRecognition/model/dataset/cropped/Hardik_Pandya/Hardik_Pandya47.png',\n",
       "  'C:/Users/Akshay/Desktop/faceRecognition/model/dataset/cropped/Hardik_Pandya/Hardik_Pandya48.png',\n",
       "  'C:/Users/Akshay/Desktop/faceRecognition/model/dataset/cropped/Hardik_Pandya/Hardik_Pandya49.png',\n",
       "  'C:/Users/Akshay/Desktop/faceRecognition/model/dataset/cropped/Hardik_Pandya/Hardik_Pandya50.png',\n",
       "  'C:/Users/Akshay/Desktop/faceRecognition/model/dataset/cropped/Hardik_Pandya/Hardik_Pandya51.png',\n",
       "  'C:/Users/Akshay/Desktop/faceRecognition/model/dataset/cropped/Hardik_Pandya/Hardik_Pandya52.png',\n",
       "  'C:/Users/Akshay/Desktop/faceRecognition/model/dataset/cropped/Hardik_Pandya/Hardik_Pandya53.png',\n",
       "  'C:/Users/Akshay/Desktop/faceRecognition/model/dataset/cropped/Hardik_Pandya/Hardik_Pandya54.png',\n",
       "  'C:/Users/Akshay/Desktop/faceRecognition/model/dataset/cropped/Hardik_Pandya/Hardik_Pandya55.png',\n",
       "  'C:/Users/Akshay/Desktop/faceRecognition/model/dataset/cropped/Hardik_Pandya/Hardik_Pandya56.png'],\n",
       " 'KL_Rahul': ['C:/Users/Akshay/Desktop/faceRecognition/model/dataset/cropped/KL_Rahul/KL_Rahul1.png',\n",
       "  'C:/Users/Akshay/Desktop/faceRecognition/model/dataset/cropped/KL_Rahul/KL_Rahul2.png',\n",
       "  'C:/Users/Akshay/Desktop/faceRecognition/model/dataset/cropped/KL_Rahul/KL_Rahul3.png',\n",
       "  'C:/Users/Akshay/Desktop/faceRecognition/model/dataset/cropped/KL_Rahul/KL_Rahul4.png',\n",
       "  'C:/Users/Akshay/Desktop/faceRecognition/model/dataset/cropped/KL_Rahul/KL_Rahul5.png',\n",
       "  'C:/Users/Akshay/Desktop/faceRecognition/model/dataset/cropped/KL_Rahul/KL_Rahul6.png',\n",
       "  'C:/Users/Akshay/Desktop/faceRecognition/model/dataset/cropped/KL_Rahul/KL_Rahul7.png',\n",
       "  'C:/Users/Akshay/Desktop/faceRecognition/model/dataset/cropped/KL_Rahul/KL_Rahul8.png',\n",
       "  'C:/Users/Akshay/Desktop/faceRecognition/model/dataset/cropped/KL_Rahul/KL_Rahul9.png',\n",
       "  'C:/Users/Akshay/Desktop/faceRecognition/model/dataset/cropped/KL_Rahul/KL_Rahul10.png',\n",
       "  'C:/Users/Akshay/Desktop/faceRecognition/model/dataset/cropped/KL_Rahul/KL_Rahul11.png',\n",
       "  'C:/Users/Akshay/Desktop/faceRecognition/model/dataset/cropped/KL_Rahul/KL_Rahul12.png',\n",
       "  'C:/Users/Akshay/Desktop/faceRecognition/model/dataset/cropped/KL_Rahul/KL_Rahul13.png',\n",
       "  'C:/Users/Akshay/Desktop/faceRecognition/model/dataset/cropped/KL_Rahul/KL_Rahul14.png',\n",
       "  'C:/Users/Akshay/Desktop/faceRecognition/model/dataset/cropped/KL_Rahul/KL_Rahul15.png',\n",
       "  'C:/Users/Akshay/Desktop/faceRecognition/model/dataset/cropped/KL_Rahul/KL_Rahul16.png',\n",
       "  'C:/Users/Akshay/Desktop/faceRecognition/model/dataset/cropped/KL_Rahul/KL_Rahul17.png',\n",
       "  'C:/Users/Akshay/Desktop/faceRecognition/model/dataset/cropped/KL_Rahul/KL_Rahul18.png',\n",
       "  'C:/Users/Akshay/Desktop/faceRecognition/model/dataset/cropped/KL_Rahul/KL_Rahul19.png',\n",
       "  'C:/Users/Akshay/Desktop/faceRecognition/model/dataset/cropped/KL_Rahul/KL_Rahul20.png',\n",
       "  'C:/Users/Akshay/Desktop/faceRecognition/model/dataset/cropped/KL_Rahul/KL_Rahul21.png',\n",
       "  'C:/Users/Akshay/Desktop/faceRecognition/model/dataset/cropped/KL_Rahul/KL_Rahul22.png',\n",
       "  'C:/Users/Akshay/Desktop/faceRecognition/model/dataset/cropped/KL_Rahul/KL_Rahul23.png',\n",
       "  'C:/Users/Akshay/Desktop/faceRecognition/model/dataset/cropped/KL_Rahul/KL_Rahul24.png',\n",
       "  'C:/Users/Akshay/Desktop/faceRecognition/model/dataset/cropped/KL_Rahul/KL_Rahul25.png',\n",
       "  'C:/Users/Akshay/Desktop/faceRecognition/model/dataset/cropped/KL_Rahul/KL_Rahul26.png',\n",
       "  'C:/Users/Akshay/Desktop/faceRecognition/model/dataset/cropped/KL_Rahul/KL_Rahul27.png',\n",
       "  'C:/Users/Akshay/Desktop/faceRecognition/model/dataset/cropped/KL_Rahul/KL_Rahul28.png',\n",
       "  'C:/Users/Akshay/Desktop/faceRecognition/model/dataset/cropped/KL_Rahul/KL_Rahul29.png',\n",
       "  'C:/Users/Akshay/Desktop/faceRecognition/model/dataset/cropped/KL_Rahul/KL_Rahul30.png',\n",
       "  'C:/Users/Akshay/Desktop/faceRecognition/model/dataset/cropped/KL_Rahul/KL_Rahul31.png',\n",
       "  'C:/Users/Akshay/Desktop/faceRecognition/model/dataset/cropped/KL_Rahul/KL_Rahul32.png',\n",
       "  'C:/Users/Akshay/Desktop/faceRecognition/model/dataset/cropped/KL_Rahul/KL_Rahul33.png',\n",
       "  'C:/Users/Akshay/Desktop/faceRecognition/model/dataset/cropped/KL_Rahul/KL_Rahul34.png',\n",
       "  'C:/Users/Akshay/Desktop/faceRecognition/model/dataset/cropped/KL_Rahul/KL_Rahul35.png',\n",
       "  'C:/Users/Akshay/Desktop/faceRecognition/model/dataset/cropped/KL_Rahul/KL_Rahul36.png',\n",
       "  'C:/Users/Akshay/Desktop/faceRecognition/model/dataset/cropped/KL_Rahul/KL_Rahul37.png',\n",
       "  'C:/Users/Akshay/Desktop/faceRecognition/model/dataset/cropped/KL_Rahul/KL_Rahul38.png',\n",
       "  'C:/Users/Akshay/Desktop/faceRecognition/model/dataset/cropped/KL_Rahul/KL_Rahul39.png',\n",
       "  'C:/Users/Akshay/Desktop/faceRecognition/model/dataset/cropped/KL_Rahul/KL_Rahul40.png',\n",
       "  'C:/Users/Akshay/Desktop/faceRecognition/model/dataset/cropped/KL_Rahul/KL_Rahul41.png',\n",
       "  'C:/Users/Akshay/Desktop/faceRecognition/model/dataset/cropped/KL_Rahul/KL_Rahul42.png',\n",
       "  'C:/Users/Akshay/Desktop/faceRecognition/model/dataset/cropped/KL_Rahul/KL_Rahul43.png',\n",
       "  'C:/Users/Akshay/Desktop/faceRecognition/model/dataset/cropped/KL_Rahul/KL_Rahul44.png',\n",
       "  'C:/Users/Akshay/Desktop/faceRecognition/model/dataset/cropped/KL_Rahul/KL_Rahul45.png',\n",
       "  'C:/Users/Akshay/Desktop/faceRecognition/model/dataset/cropped/KL_Rahul/KL_Rahul46.png',\n",
       "  'C:/Users/Akshay/Desktop/faceRecognition/model/dataset/cropped/KL_Rahul/KL_Rahul47.png',\n",
       "  'C:/Users/Akshay/Desktop/faceRecognition/model/dataset/cropped/KL_Rahul/KL_Rahul48.png',\n",
       "  'C:/Users/Akshay/Desktop/faceRecognition/model/dataset/cropped/KL_Rahul/KL_Rahul49.png',\n",
       "  'C:/Users/Akshay/Desktop/faceRecognition/model/dataset/cropped/KL_Rahul/KL_Rahul50.png'],\n",
       " 'MS_Dhoni': ['C:/Users/Akshay/Desktop/faceRecognition/model/dataset/cropped/MS_Dhoni/MS_Dhoni1.png',\n",
       "  'C:/Users/Akshay/Desktop/faceRecognition/model/dataset/cropped/MS_Dhoni/MS_Dhoni2.png',\n",
       "  'C:/Users/Akshay/Desktop/faceRecognition/model/dataset/cropped/MS_Dhoni/MS_Dhoni3.png',\n",
       "  'C:/Users/Akshay/Desktop/faceRecognition/model/dataset/cropped/MS_Dhoni/MS_Dhoni4.png',\n",
       "  'C:/Users/Akshay/Desktop/faceRecognition/model/dataset/cropped/MS_Dhoni/MS_Dhoni5.png',\n",
       "  'C:/Users/Akshay/Desktop/faceRecognition/model/dataset/cropped/MS_Dhoni/MS_Dhoni6.png',\n",
       "  'C:/Users/Akshay/Desktop/faceRecognition/model/dataset/cropped/MS_Dhoni/MS_Dhoni7.png',\n",
       "  'C:/Users/Akshay/Desktop/faceRecognition/model/dataset/cropped/MS_Dhoni/MS_Dhoni8.png',\n",
       "  'C:/Users/Akshay/Desktop/faceRecognition/model/dataset/cropped/MS_Dhoni/MS_Dhoni9.png',\n",
       "  'C:/Users/Akshay/Desktop/faceRecognition/model/dataset/cropped/MS_Dhoni/MS_Dhoni10.png',\n",
       "  'C:/Users/Akshay/Desktop/faceRecognition/model/dataset/cropped/MS_Dhoni/MS_Dhoni11.png',\n",
       "  'C:/Users/Akshay/Desktop/faceRecognition/model/dataset/cropped/MS_Dhoni/MS_Dhoni12.png',\n",
       "  'C:/Users/Akshay/Desktop/faceRecognition/model/dataset/cropped/MS_Dhoni/MS_Dhoni13.png',\n",
       "  'C:/Users/Akshay/Desktop/faceRecognition/model/dataset/cropped/MS_Dhoni/MS_Dhoni14.png',\n",
       "  'C:/Users/Akshay/Desktop/faceRecognition/model/dataset/cropped/MS_Dhoni/MS_Dhoni15.png',\n",
       "  'C:/Users/Akshay/Desktop/faceRecognition/model/dataset/cropped/MS_Dhoni/MS_Dhoni16.png',\n",
       "  'C:/Users/Akshay/Desktop/faceRecognition/model/dataset/cropped/MS_Dhoni/MS_Dhoni17.png',\n",
       "  'C:/Users/Akshay/Desktop/faceRecognition/model/dataset/cropped/MS_Dhoni/MS_Dhoni18.png',\n",
       "  'C:/Users/Akshay/Desktop/faceRecognition/model/dataset/cropped/MS_Dhoni/MS_Dhoni19.png',\n",
       "  'C:/Users/Akshay/Desktop/faceRecognition/model/dataset/cropped/MS_Dhoni/MS_Dhoni20.png',\n",
       "  'C:/Users/Akshay/Desktop/faceRecognition/model/dataset/cropped/MS_Dhoni/MS_Dhoni21.png',\n",
       "  'C:/Users/Akshay/Desktop/faceRecognition/model/dataset/cropped/MS_Dhoni/MS_Dhoni22.png',\n",
       "  'C:/Users/Akshay/Desktop/faceRecognition/model/dataset/cropped/MS_Dhoni/MS_Dhoni23.png',\n",
       "  'C:/Users/Akshay/Desktop/faceRecognition/model/dataset/cropped/MS_Dhoni/MS_Dhoni24.png',\n",
       "  'C:/Users/Akshay/Desktop/faceRecognition/model/dataset/cropped/MS_Dhoni/MS_Dhoni25.png',\n",
       "  'C:/Users/Akshay/Desktop/faceRecognition/model/dataset/cropped/MS_Dhoni/MS_Dhoni26.png',\n",
       "  'C:/Users/Akshay/Desktop/faceRecognition/model/dataset/cropped/MS_Dhoni/MS_Dhoni27.png',\n",
       "  'C:/Users/Akshay/Desktop/faceRecognition/model/dataset/cropped/MS_Dhoni/MS_Dhoni28.png'],\n",
       " 'Rohit_Sharma': ['C:/Users/Akshay/Desktop/faceRecognition/model/dataset/cropped/Rohit_Sharma/Rohit_Sharma1.png',\n",
       "  'C:/Users/Akshay/Desktop/faceRecognition/model/dataset/cropped/Rohit_Sharma/Rohit_Sharma2.png',\n",
       "  'C:/Users/Akshay/Desktop/faceRecognition/model/dataset/cropped/Rohit_Sharma/Rohit_Sharma3.png',\n",
       "  'C:/Users/Akshay/Desktop/faceRecognition/model/dataset/cropped/Rohit_Sharma/Rohit_Sharma4.png',\n",
       "  'C:/Users/Akshay/Desktop/faceRecognition/model/dataset/cropped/Rohit_Sharma/Rohit_Sharma5.png',\n",
       "  'C:/Users/Akshay/Desktop/faceRecognition/model/dataset/cropped/Rohit_Sharma/Rohit_Sharma6.png',\n",
       "  'C:/Users/Akshay/Desktop/faceRecognition/model/dataset/cropped/Rohit_Sharma/Rohit_Sharma7.png',\n",
       "  'C:/Users/Akshay/Desktop/faceRecognition/model/dataset/cropped/Rohit_Sharma/Rohit_Sharma8.png',\n",
       "  'C:/Users/Akshay/Desktop/faceRecognition/model/dataset/cropped/Rohit_Sharma/Rohit_Sharma9.png',\n",
       "  'C:/Users/Akshay/Desktop/faceRecognition/model/dataset/cropped/Rohit_Sharma/Rohit_Sharma10.png',\n",
       "  'C:/Users/Akshay/Desktop/faceRecognition/model/dataset/cropped/Rohit_Sharma/Rohit_Sharma11.png',\n",
       "  'C:/Users/Akshay/Desktop/faceRecognition/model/dataset/cropped/Rohit_Sharma/Rohit_Sharma12.png',\n",
       "  'C:/Users/Akshay/Desktop/faceRecognition/model/dataset/cropped/Rohit_Sharma/Rohit_Sharma13.png',\n",
       "  'C:/Users/Akshay/Desktop/faceRecognition/model/dataset/cropped/Rohit_Sharma/Rohit_Sharma14.png',\n",
       "  'C:/Users/Akshay/Desktop/faceRecognition/model/dataset/cropped/Rohit_Sharma/Rohit_Sharma15.png',\n",
       "  'C:/Users/Akshay/Desktop/faceRecognition/model/dataset/cropped/Rohit_Sharma/Rohit_Sharma16.png',\n",
       "  'C:/Users/Akshay/Desktop/faceRecognition/model/dataset/cropped/Rohit_Sharma/Rohit_Sharma17.png',\n",
       "  'C:/Users/Akshay/Desktop/faceRecognition/model/dataset/cropped/Rohit_Sharma/Rohit_Sharma18.png',\n",
       "  'C:/Users/Akshay/Desktop/faceRecognition/model/dataset/cropped/Rohit_Sharma/Rohit_Sharma19.png',\n",
       "  'C:/Users/Akshay/Desktop/faceRecognition/model/dataset/cropped/Rohit_Sharma/Rohit_Sharma20.png',\n",
       "  'C:/Users/Akshay/Desktop/faceRecognition/model/dataset/cropped/Rohit_Sharma/Rohit_Sharma21.png',\n",
       "  'C:/Users/Akshay/Desktop/faceRecognition/model/dataset/cropped/Rohit_Sharma/Rohit_Sharma22.png',\n",
       "  'C:/Users/Akshay/Desktop/faceRecognition/model/dataset/cropped/Rohit_Sharma/Rohit_Sharma23.png'],\n",
       " 'Virat_Kohli': ['C:/Users/Akshay/Desktop/faceRecognition/model/dataset/cropped/Virat_Kohli/Virat_Kohli1.png',\n",
       "  'C:/Users/Akshay/Desktop/faceRecognition/model/dataset/cropped/Virat_Kohli/Virat_Kohli2.png',\n",
       "  'C:/Users/Akshay/Desktop/faceRecognition/model/dataset/cropped/Virat_Kohli/Virat_Kohli3.png',\n",
       "  'C:/Users/Akshay/Desktop/faceRecognition/model/dataset/cropped/Virat_Kohli/Virat_Kohli4.png',\n",
       "  'C:/Users/Akshay/Desktop/faceRecognition/model/dataset/cropped/Virat_Kohli/Virat_Kohli5.png',\n",
       "  'C:/Users/Akshay/Desktop/faceRecognition/model/dataset/cropped/Virat_Kohli/Virat_Kohli6.png',\n",
       "  'C:/Users/Akshay/Desktop/faceRecognition/model/dataset/cropped/Virat_Kohli/Virat_Kohli7.png',\n",
       "  'C:/Users/Akshay/Desktop/faceRecognition/model/dataset/cropped/Virat_Kohli/Virat_Kohli8.png',\n",
       "  'C:/Users/Akshay/Desktop/faceRecognition/model/dataset/cropped/Virat_Kohli/Virat_Kohli9.png',\n",
       "  'C:/Users/Akshay/Desktop/faceRecognition/model/dataset/cropped/Virat_Kohli/Virat_Kohli10.png',\n",
       "  'C:/Users/Akshay/Desktop/faceRecognition/model/dataset/cropped/Virat_Kohli/Virat_Kohli11.png',\n",
       "  'C:/Users/Akshay/Desktop/faceRecognition/model/dataset/cropped/Virat_Kohli/Virat_Kohli12.png',\n",
       "  'C:/Users/Akshay/Desktop/faceRecognition/model/dataset/cropped/Virat_Kohli/Virat_Kohli13.png',\n",
       "  'C:/Users/Akshay/Desktop/faceRecognition/model/dataset/cropped/Virat_Kohli/Virat_Kohli14.png',\n",
       "  'C:/Users/Akshay/Desktop/faceRecognition/model/dataset/cropped/Virat_Kohli/Virat_Kohli15.png',\n",
       "  'C:/Users/Akshay/Desktop/faceRecognition/model/dataset/cropped/Virat_Kohli/Virat_Kohli16.png',\n",
       "  'C:/Users/Akshay/Desktop/faceRecognition/model/dataset/cropped/Virat_Kohli/Virat_Kohli17.png',\n",
       "  'C:/Users/Akshay/Desktop/faceRecognition/model/dataset/cropped/Virat_Kohli/Virat_Kohli18.png',\n",
       "  'C:/Users/Akshay/Desktop/faceRecognition/model/dataset/cropped/Virat_Kohli/Virat_Kohli19.png',\n",
       "  'C:/Users/Akshay/Desktop/faceRecognition/model/dataset/cropped/Virat_Kohli/Virat_Kohli20.png',\n",
       "  'C:/Users/Akshay/Desktop/faceRecognition/model/dataset/cropped/Virat_Kohli/Virat_Kohli21.png',\n",
       "  'C:/Users/Akshay/Desktop/faceRecognition/model/dataset/cropped/Virat_Kohli/Virat_Kohli22.png',\n",
       "  'C:/Users/Akshay/Desktop/faceRecognition/model/dataset/cropped/Virat_Kohli/Virat_Kohli23.png',\n",
       "  'C:/Users/Akshay/Desktop/faceRecognition/model/dataset/cropped/Virat_Kohli/Virat_Kohli24.png',\n",
       "  'C:/Users/Akshay/Desktop/faceRecognition/model/dataset/cropped/Virat_Kohli/Virat_Kohli25.png',\n",
       "  'C:/Users/Akshay/Desktop/faceRecognition/model/dataset/cropped/Virat_Kohli/Virat_Kohli26.png',\n",
       "  'C:/Users/Akshay/Desktop/faceRecognition/model/dataset/cropped/Virat_Kohli/Virat_Kohli27.png',\n",
       "  'C:/Users/Akshay/Desktop/faceRecognition/model/dataset/cropped/Virat_Kohli/Virat_Kohli28.png',\n",
       "  'C:/Users/Akshay/Desktop/faceRecognition/model/dataset/cropped/Virat_Kohli/Virat_Kohli29.png',\n",
       "  'C:/Users/Akshay/Desktop/faceRecognition/model/dataset/cropped/Virat_Kohli/Virat_Kohli30.png',\n",
       "  'C:/Users/Akshay/Desktop/faceRecognition/model/dataset/cropped/Virat_Kohli/Virat_Kohli31.png',\n",
       "  'C:/Users/Akshay/Desktop/faceRecognition/model/dataset/cropped/Virat_Kohli/Virat_Kohli32.png',\n",
       "  'C:/Users/Akshay/Desktop/faceRecognition/model/dataset/cropped/Virat_Kohli/Virat_Kohli33.png',\n",
       "  'C:/Users/Akshay/Desktop/faceRecognition/model/dataset/cropped/Virat_Kohli/Virat_Kohli34.png',\n",
       "  'C:/Users/Akshay/Desktop/faceRecognition/model/dataset/cropped/Virat_Kohli/Virat_Kohli35.png',\n",
       "  'C:/Users/Akshay/Desktop/faceRecognition/model/dataset/cropped/Virat_Kohli/Virat_Kohli36.png',\n",
       "  'C:/Users/Akshay/Desktop/faceRecognition/model/dataset/cropped/Virat_Kohli/Virat_Kohli37.png',\n",
       "  'C:/Users/Akshay/Desktop/faceRecognition/model/dataset/cropped/Virat_Kohli/Virat_Kohli38.png',\n",
       "  'C:/Users/Akshay/Desktop/faceRecognition/model/dataset/cropped/Virat_Kohli/Virat_Kohli39.png',\n",
       "  'C:/Users/Akshay/Desktop/faceRecognition/model/dataset/cropped/Virat_Kohli/Virat_Kohli40.png',\n",
       "  'C:/Users/Akshay/Desktop/faceRecognition/model/dataset/cropped/Virat_Kohli/Virat_Kohli41.png',\n",
       "  'C:/Users/Akshay/Desktop/faceRecognition/model/dataset/cropped/Virat_Kohli/Virat_Kohli42.png',\n",
       "  'C:/Users/Akshay/Desktop/faceRecognition/model/dataset/cropped/Virat_Kohli/Virat_Kohli43.png',\n",
       "  'C:/Users/Akshay/Desktop/faceRecognition/model/dataset/cropped/Virat_Kohli/Virat_Kohli44.png',\n",
       "  'C:/Users/Akshay/Desktop/faceRecognition/model/dataset/cropped/Virat_Kohli/Virat_Kohli45.png',\n",
       "  'C:/Users/Akshay/Desktop/faceRecognition/model/dataset/cropped/Virat_Kohli/Virat_Kohli46.png',\n",
       "  'C:/Users/Akshay/Desktop/faceRecognition/model/dataset/cropped/Virat_Kohli/Virat_Kohli47.png',\n",
       "  'C:/Users/Akshay/Desktop/faceRecognition/model/dataset/cropped/Virat_Kohli/Virat_Kohli48.png',\n",
       "  'C:/Users/Akshay/Desktop/faceRecognition/model/dataset/cropped/Virat_Kohli/Virat_Kohli49.png',\n",
       "  'C:/Users/Akshay/Desktop/faceRecognition/model/dataset/cropped/Virat_Kohli/Virat_Kohli50.png',\n",
       "  'C:/Users/Akshay/Desktop/faceRecognition/model/dataset/cropped/Virat_Kohli/Virat_Kohli51.png',\n",
       "  'C:/Users/Akshay/Desktop/faceRecognition/model/dataset/cropped/Virat_Kohli/Virat_Kohli52.png',\n",
       "  'C:/Users/Akshay/Desktop/faceRecognition/model/dataset/cropped/Virat_Kohli/Virat_Kohli53.png']}"
      ]
     },
     "execution_count": 10,
     "metadata": {},
     "output_type": "execute_result"
    }
   ],
   "source": [
    "celebrity_file_names_dict"
   ]
  },
  {
   "cell_type": "code",
   "execution_count": 11,
   "metadata": {},
   "outputs": [
    {
     "data": {
      "text/plain": [
       "{'Hardik_Pandya': 0,\n",
       " 'KL_Rahul': 1,\n",
       " 'MS_Dhoni': 2,\n",
       " 'Rohit_Sharma': 3,\n",
       " 'Virat_Kohli': 4}"
      ]
     },
     "execution_count": 11,
     "metadata": {},
     "output_type": "execute_result"
    }
   ],
   "source": [
    "class_dict = {}\n",
    "count = 0\n",
    "for celebrity_name in celebrity_file_names_dict.keys():\n",
    "    class_dict[celebrity_name] = count\n",
    "    count = count + 1\n",
    "class_dict"
   ]
  },
  {
   "cell_type": "code",
   "execution_count": 12,
   "metadata": {},
   "outputs": [],
   "source": [
    "X =[]\n",
    "y =[]\n",
    "\n",
    "for celebrity_name, training_files in celebrity_file_names_dict.items():\n",
    "    for training_image in training_files:\n",
    "        img = cv2.imread(training_image)\n",
    "        if img is None:\n",
    "            continue\n",
    "        scalled_raw_img = cv2.resize(img,(32,32))\n",
    "        img_har =w2d(img,'db1',5)\n",
    "        scalled_image_har = cv2.resize(img_har, (32,32))\n",
    "        combined_img = np.vstack((scalled_raw_img.reshape(32*32*3,1),scalled_image_har.reshape(32*32,1)))\n",
    "        X.append(combined_img)\n",
    "        y.append(class_dict[celebrity_name])\n",
    "        "
   ]
  },
  {
   "cell_type": "code",
   "execution_count": 13,
   "metadata": {},
   "outputs": [
    {
     "data": {
      "text/plain": [
       "(210, 4096)"
      ]
     },
     "execution_count": 13,
     "metadata": {},
     "output_type": "execute_result"
    }
   ],
   "source": [
    "X = np.array(X).reshape(len(X),4096).astype(float)\n",
    "X.shape"
   ]
  },
  {
   "cell_type": "code",
   "execution_count": 14,
   "metadata": {},
   "outputs": [
    {
     "data": {
      "text/plain": [
       "[0,\n",
       " 0,\n",
       " 0,\n",
       " 0,\n",
       " 0,\n",
       " 0,\n",
       " 0,\n",
       " 0,\n",
       " 0,\n",
       " 0,\n",
       " 0,\n",
       " 0,\n",
       " 0,\n",
       " 0,\n",
       " 0,\n",
       " 0,\n",
       " 0,\n",
       " 0,\n",
       " 0,\n",
       " 0,\n",
       " 0,\n",
       " 0,\n",
       " 0,\n",
       " 0,\n",
       " 0,\n",
       " 0,\n",
       " 0,\n",
       " 0,\n",
       " 0,\n",
       " 0,\n",
       " 0,\n",
       " 0,\n",
       " 0,\n",
       " 0,\n",
       " 0,\n",
       " 0,\n",
       " 0,\n",
       " 0,\n",
       " 0,\n",
       " 0,\n",
       " 0,\n",
       " 0,\n",
       " 0,\n",
       " 0,\n",
       " 0,\n",
       " 0,\n",
       " 0,\n",
       " 0,\n",
       " 0,\n",
       " 0,\n",
       " 0,\n",
       " 0,\n",
       " 0,\n",
       " 0,\n",
       " 0,\n",
       " 0,\n",
       " 1,\n",
       " 1,\n",
       " 1,\n",
       " 1,\n",
       " 1,\n",
       " 1,\n",
       " 1,\n",
       " 1,\n",
       " 1,\n",
       " 1,\n",
       " 1,\n",
       " 1,\n",
       " 1,\n",
       " 1,\n",
       " 1,\n",
       " 1,\n",
       " 1,\n",
       " 1,\n",
       " 1,\n",
       " 1,\n",
       " 1,\n",
       " 1,\n",
       " 1,\n",
       " 1,\n",
       " 1,\n",
       " 1,\n",
       " 1,\n",
       " 1,\n",
       " 1,\n",
       " 1,\n",
       " 1,\n",
       " 1,\n",
       " 1,\n",
       " 1,\n",
       " 1,\n",
       " 1,\n",
       " 1,\n",
       " 1,\n",
       " 1,\n",
       " 1,\n",
       " 1,\n",
       " 1,\n",
       " 1,\n",
       " 1,\n",
       " 1,\n",
       " 1,\n",
       " 1,\n",
       " 1,\n",
       " 1,\n",
       " 1,\n",
       " 2,\n",
       " 2,\n",
       " 2,\n",
       " 2,\n",
       " 2,\n",
       " 2,\n",
       " 2,\n",
       " 2,\n",
       " 2,\n",
       " 2,\n",
       " 2,\n",
       " 2,\n",
       " 2,\n",
       " 2,\n",
       " 2,\n",
       " 2,\n",
       " 2,\n",
       " 2,\n",
       " 2,\n",
       " 2,\n",
       " 2,\n",
       " 2,\n",
       " 2,\n",
       " 2,\n",
       " 2,\n",
       " 2,\n",
       " 2,\n",
       " 2,\n",
       " 3,\n",
       " 3,\n",
       " 3,\n",
       " 3,\n",
       " 3,\n",
       " 3,\n",
       " 3,\n",
       " 3,\n",
       " 3,\n",
       " 3,\n",
       " 3,\n",
       " 3,\n",
       " 3,\n",
       " 3,\n",
       " 3,\n",
       " 3,\n",
       " 3,\n",
       " 3,\n",
       " 3,\n",
       " 3,\n",
       " 3,\n",
       " 3,\n",
       " 3,\n",
       " 4,\n",
       " 4,\n",
       " 4,\n",
       " 4,\n",
       " 4,\n",
       " 4,\n",
       " 4,\n",
       " 4,\n",
       " 4,\n",
       " 4,\n",
       " 4,\n",
       " 4,\n",
       " 4,\n",
       " 4,\n",
       " 4,\n",
       " 4,\n",
       " 4,\n",
       " 4,\n",
       " 4,\n",
       " 4,\n",
       " 4,\n",
       " 4,\n",
       " 4,\n",
       " 4,\n",
       " 4,\n",
       " 4,\n",
       " 4,\n",
       " 4,\n",
       " 4,\n",
       " 4,\n",
       " 4,\n",
       " 4,\n",
       " 4,\n",
       " 4,\n",
       " 4,\n",
       " 4,\n",
       " 4,\n",
       " 4,\n",
       " 4,\n",
       " 4,\n",
       " 4,\n",
       " 4,\n",
       " 4,\n",
       " 4,\n",
       " 4,\n",
       " 4,\n",
       " 4,\n",
       " 4,\n",
       " 4,\n",
       " 4,\n",
       " 4,\n",
       " 4,\n",
       " 4]"
      ]
     },
     "execution_count": 14,
     "metadata": {},
     "output_type": "execute_result"
    }
   ],
   "source": [
    "y"
   ]
  },
  {
   "cell_type": "code",
   "execution_count": 15,
   "metadata": {},
   "outputs": [],
   "source": [
    "from sklearn.svm import SVC\n",
    "from sklearn.preprocessing import StandardScaler\n",
    "from sklearn.model_selection import train_test_split\n",
    "from sklearn.pipeline import Pipeline\n",
    "from sklearn.metrics import classification_report"
   ]
  },
  {
   "cell_type": "code",
   "execution_count": 16,
   "metadata": {},
   "outputs": [
    {
     "data": {
      "text/plain": [
       "0.5283018867924528"
      ]
     },
     "execution_count": 16,
     "metadata": {},
     "output_type": "execute_result"
    }
   ],
   "source": [
    "X_train, X_test, y_train, y_test = train_test_split(X, y, random_state=0)\n",
    "\n",
    "pipe = Pipeline([('scaler', StandardScaler()), ('svc', SVC(kernel = 'rbf', C=10))])\n",
    "pipe.fit(X_train, y_train)\n",
    "\n",
    "pipe.score(X_test, y_test)"
   ]
  },
  {
   "cell_type": "code",
   "execution_count": 17,
   "metadata": {},
   "outputs": [
    {
     "name": "stdout",
     "output_type": "stream",
     "text": [
      "              precision    recall  f1-score   support\n",
      "\n",
      "           0       0.63      0.80      0.71        15\n",
      "           1       0.69      0.69      0.69        13\n",
      "           2       1.00      0.33      0.50         6\n",
      "           3       0.00      0.00      0.00         9\n",
      "           4       0.26      0.50      0.34        10\n",
      "\n",
      "    accuracy                           0.53        53\n",
      "   macro avg       0.52      0.47      0.45        53\n",
      "weighted avg       0.51      0.53      0.49        53\n",
      "\n"
     ]
    },
    {
     "name": "stderr",
     "output_type": "stream",
     "text": [
      "C:\\Users\\Akshay\\anaconda3\\lib\\site-packages\\sklearn\\metrics\\_classification.py:1272: UndefinedMetricWarning: Precision and F-score are ill-defined and being set to 0.0 in labels with no predicted samples. Use `zero_division` parameter to control this behavior.\n",
      "  _warn_prf(average, modifier, msg_start, len(result))\n"
     ]
    }
   ],
   "source": [
    "print(classification_report(y_test, pipe.predict(X_test)))"
   ]
  },
  {
   "cell_type": "code",
   "execution_count": 18,
   "metadata": {},
   "outputs": [],
   "source": [
    "from sklearn import svm\n",
    "from sklearn.ensemble import RandomForestClassifier\n",
    "from sklearn.linear_model import LogisticRegression \n",
    "from sklearn.pipeline import make_pipeline\n",
    "from sklearn.model_selection import GridSearchCV"
   ]
  },
  {
   "cell_type": "code",
   "execution_count": 19,
   "metadata": {},
   "outputs": [],
   "source": [
    "model_params = {\n",
    "    'svm': {\n",
    "        'model': svm.SVC(gamma='auto',probability=True),\n",
    "        'params' : {\n",
    "            'svc__C': [1,10,100,1000],\n",
    "            'svc__kernel': ['rbf','linear']\n",
    "        }  \n",
    "    },\n",
    "    'random_forest': {\n",
    "        'model': RandomForestClassifier(),\n",
    "        'params' : {\n",
    "            'randomforestclassifier__n_estimators': [1,5,10]\n",
    "        }\n",
    "    },\n",
    "    'logistic_regression' : {\n",
    "        'model': LogisticRegression(solver='liblinear',multi_class='auto'),\n",
    "        'params': {\n",
    "            'logisticregression__C': [1,5,10]\n",
    "        }\n",
    "    }\n",
    "}"
   ]
  },
  {
   "cell_type": "code",
   "execution_count": 20,
   "metadata": {},
   "outputs": [
    {
     "data": {
      "text/html": [
       "<div>\n",
       "<style scoped>\n",
       "    .dataframe tbody tr th:only-of-type {\n",
       "        vertical-align: middle;\n",
       "    }\n",
       "\n",
       "    .dataframe tbody tr th {\n",
       "        vertical-align: top;\n",
       "    }\n",
       "\n",
       "    .dataframe thead th {\n",
       "        text-align: right;\n",
       "    }\n",
       "</style>\n",
       "<table border=\"1\" class=\"dataframe\">\n",
       "  <thead>\n",
       "    <tr style=\"text-align: right;\">\n",
       "      <th></th>\n",
       "      <th>model</th>\n",
       "      <th>best_score</th>\n",
       "      <th>best_params</th>\n",
       "    </tr>\n",
       "  </thead>\n",
       "  <tbody>\n",
       "    <tr>\n",
       "      <th>0</th>\n",
       "      <td>svm</td>\n",
       "      <td>0.560484</td>\n",
       "      <td>{'svc__C': 1, 'svc__kernel': 'linear'}</td>\n",
       "    </tr>\n",
       "    <tr>\n",
       "      <th>1</th>\n",
       "      <td>random_forest</td>\n",
       "      <td>0.420968</td>\n",
       "      <td>{'randomforestclassifier__n_estimators': 10}</td>\n",
       "    </tr>\n",
       "    <tr>\n",
       "      <th>2</th>\n",
       "      <td>logistic_regression</td>\n",
       "      <td>0.586089</td>\n",
       "      <td>{'logisticregression__C': 5}</td>\n",
       "    </tr>\n",
       "  </tbody>\n",
       "</table>\n",
       "</div>"
      ],
      "text/plain": [
       "                 model  best_score  \\\n",
       "0                  svm    0.560484   \n",
       "1        random_forest    0.420968   \n",
       "2  logistic_regression    0.586089   \n",
       "\n",
       "                                    best_params  \n",
       "0        {'svc__C': 1, 'svc__kernel': 'linear'}  \n",
       "1  {'randomforestclassifier__n_estimators': 10}  \n",
       "2                  {'logisticregression__C': 5}  "
      ]
     },
     "execution_count": 20,
     "metadata": {},
     "output_type": "execute_result"
    }
   ],
   "source": [
    "scores = []\n",
    "best_estimators = {}\n",
    "import pandas as pd\n",
    "for algo, mp in model_params.items():\n",
    "    pipe = make_pipeline(StandardScaler(), mp['model'])\n",
    "    clf =  GridSearchCV(pipe, mp['params'], cv=5, return_train_score=False)\n",
    "    clf.fit(X_train, y_train)\n",
    "    scores.append({\n",
    "        'model': algo,\n",
    "        'best_score': clf.best_score_,\n",
    "        'best_params': clf.best_params_\n",
    "    })\n",
    "    best_estimators[algo] = clf.best_estimator_\n",
    "    \n",
    "df = pd.DataFrame(scores,columns=['model','best_score','best_params'])\n",
    "df"
   ]
  },
  {
   "cell_type": "code",
   "execution_count": 21,
   "metadata": {},
   "outputs": [
    {
     "data": {
      "text/plain": [
       "0.6226415094339622"
      ]
     },
     "execution_count": 21,
     "metadata": {},
     "output_type": "execute_result"
    }
   ],
   "source": [
    "best_estimators['svm'].score(X_test, y_test)"
   ]
  },
  {
   "cell_type": "code",
   "execution_count": 22,
   "metadata": {},
   "outputs": [
    {
     "data": {
      "text/plain": [
       "0.5283018867924528"
      ]
     },
     "execution_count": 22,
     "metadata": {},
     "output_type": "execute_result"
    }
   ],
   "source": [
    "best_estimators['random_forest'].score(X_test, y_test)"
   ]
  },
  {
   "cell_type": "code",
   "execution_count": 23,
   "metadata": {},
   "outputs": [
    {
     "data": {
      "text/plain": [
       "0.6037735849056604"
      ]
     },
     "execution_count": 23,
     "metadata": {},
     "output_type": "execute_result"
    }
   ],
   "source": [
    "best_estimators['logistic_regression'].score(X_test, y_test)"
   ]
  },
  {
   "cell_type": "code",
   "execution_count": 24,
   "metadata": {},
   "outputs": [],
   "source": [
    "best_clf = best_estimators['svm']"
   ]
  },
  {
   "cell_type": "code",
   "execution_count": 25,
   "metadata": {},
   "outputs": [],
   "source": [
    "from sklearn.metrics import confusion_matrix\n",
    "cm=confusion_matrix(y_test, best_clf.predict(X_test))"
   ]
  },
  {
   "cell_type": "code",
   "execution_count": 26,
   "metadata": {},
   "outputs": [
    {
     "data": {
      "text/plain": [
       "Text(69.0, 0.5, 'Truth')"
      ]
     },
     "execution_count": 26,
     "metadata": {},
     "output_type": "execute_result"
    },
    {
     "data": {
      "image/png": "[encoded data removed]",
      "text/plain": [
       "<Figure size 720x504 with 2 Axes>"
      ]
     },
     "metadata": {
      "needs_background": "light"
     },
     "output_type": "display_data"
    }
   ],
   "source": [
    "import seaborn as sn\n",
    "plt.figure(figsize = (10,7))\n",
    "sn.heatmap(cm, annot=True)\n",
    "plt.xlabel('Predicted')\n",
    "plt.ylabel('Truth')"
   ]
  },
  {
   "cell_type": "code",
   "execution_count": null,
   "metadata": {},
   "outputs": [],
   "source": []
  },
  {
   "cell_type": "code",
   "execution_count": 27,
   "metadata": {},
   "outputs": [
    {
     "name": "stdout",
     "output_type": "stream",
     "text": [
      "Requirement already satisfied: joblib in c:\\users\\akshay\\anaconda3\\lib\\site-packages (0.14.1)\n"
     ]
    },
    {
     "data": {
      "text/plain": [
       "['C:/Users/Akshay/Desktop/faceRecognition/model/saved_model.pkl']"
      ]
     },
     "execution_count": 27,
     "metadata": {},
     "output_type": "execute_result"
    }
   ],
   "source": [
    "!pip install joblib\n",
    "import joblib \n",
    "# Save the model as a pickle in a file \n",
    "joblib.dump(best_clf, 'C:/Users/Akshay/Desktop/faceRecognition/model/saved_model.pkl') "
   ]
  },
  {
   "cell_type": "code",
   "execution_count": 28,
   "metadata": {},
   "outputs": [],
   "source": [
    "import json\n",
    "with open(\"C:/Users/Akshay/Desktop/faceRecognition/model/class_dictionary.json\",\"w\") as f:\n",
    "    f.write(json.dumps(class_dict))"
   ]
  }
 ],
 "metadata": {
  "kernelspec": {
   "display_name": "Python 3",
   "language": "python",
   "name": "python3"
  },
  "language_info": {
   "codemirror_mode": {
    "name": "ipython",
    "version": 3
   },
   "file_extension": ".py",
   "mimetype": "text/x-python",
   "name": "python",
   "nbconvert_exporter": "python",
   "pygments_lexer": "ipython3",
   "version": "3.7.6"
  }
 },
 "nbformat": 4,
 "nbformat_minor": 4
}
